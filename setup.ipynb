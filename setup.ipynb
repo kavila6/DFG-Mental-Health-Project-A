{
 "cells": [
  {
   "cell_type": "markdown",
   "id": "14d26010",
   "metadata": {},
   "source": [
    "# Setup\n",
    "The first chunk below should allow you to connect to the oracle sql server in this jupyter file. Either make sure to create a .env file of your credentials or manually change them in the code below. If you are manually adding your credentials, please remember to remove them before committing changed code to github so other people do not see. Also, please ensure you have downloaded the oracle zip wallet from: https://ab-data.dataforgood.ca/s/k55ftpe4cs87eiw"
   ]
  },
  {
   "cell_type": "code",
   "execution_count": 1,
   "id": "aebbca2e",
   "metadata": {},
   "outputs": [
    {
     "name": "stderr",
     "output_type": "stream",
     "text": [
      "C:\\Users\\j_chr\\AppData\\Local\\Temp\\ipykernel_37196\\2779581308.py:32: UserWarning: pandas only supports SQLAlchemy connectable (engine/connection) or database string URI or sqlite3 DBAPI2 connection. Other DBAPI2 objects are not tested. Please consider using SQLAlchemy.\n",
      "  df = pd.read_sql(query, con = connection)\n"
     ]
    },
    {
     "data": {
      "application/vnd.microsoft.datawrangler.viewer.v0+json": {
       "columns": [
        {
         "name": "index",
         "rawType": "int64",
         "type": "integer"
        },
        {
         "name": "CENSUS_YEAR",
         "rawType": "int64",
         "type": "integer"
        },
        {
         "name": "DGUID",
         "rawType": "object",
         "type": "string"
        },
        {
         "name": "ALT_GEO_CODE",
         "rawType": "object",
         "type": "string"
        },
        {
         "name": "GEO_LEVEL",
         "rawType": "object",
         "type": "string"
        },
        {
         "name": "GEO_NAME",
         "rawType": "object",
         "type": "string"
        },
        {
         "name": "TNR_SF",
         "rawType": "int64",
         "type": "integer"
        },
        {
         "name": "TNR_LF",
         "rawType": "float64",
         "type": "float"
        },
        {
         "name": "DATA_QUALITY_FLAG",
         "rawType": "int64",
         "type": "integer"
        },
        {
         "name": "CHARACTERISTIC_ID",
         "rawType": "int64",
         "type": "integer"
        },
        {
         "name": "CHARACTERISTIC_NAME",
         "rawType": "object",
         "type": "string"
        },
        {
         "name": "CHARACTERISTIC_NOTE",
         "rawType": "float64",
         "type": "float"
        },
        {
         "name": "C1_COUNT_TOTAL",
         "rawType": "float64",
         "type": "float"
        },
        {
         "name": "SYMBOL",
         "rawType": "object",
         "type": "unknown"
        },
        {
         "name": "C2_COUNT_MEN_",
         "rawType": "float64",
         "type": "float"
        },
        {
         "name": "SYMBOL1",
         "rawType": "object",
         "type": "unknown"
        },
        {
         "name": "C3_COUNT_WOMEN_",
         "rawType": "float64",
         "type": "float"
        },
        {
         "name": "SYMBOL2",
         "rawType": "object",
         "type": "unknown"
        },
        {
         "name": "C10_RATE_TOTAL",
         "rawType": "float64",
         "type": "float"
        },
        {
         "name": "SYMBOL3",
         "rawType": "object",
         "type": "unknown"
        },
        {
         "name": "C11_RATE_MEN_",
         "rawType": "float64",
         "type": "float"
        },
        {
         "name": "SYMBOL4",
         "rawType": "object",
         "type": "unknown"
        },
        {
         "name": "C12_RATE_WOMEN_",
         "rawType": "float64",
         "type": "float"
        },
        {
         "name": "SYMBOL5",
         "rawType": "object",
         "type": "unknown"
        }
       ],
       "conversionMethod": "pd.DataFrame",
       "ref": "9069b0eb-3a80-4ada-b309-30104ae765c4",
       "rows": [
        [
         "0",
         "2021",
         "2021S051235600352",
         "35600352",
         "Dissemination area",
         "35600352",
         "5",
         "5.2",
         "0",
         "374",
         "In seventh decile",
         null,
         "30.0",
         null,
         "20.0",
         null,
         "15.0",
         null,
         "10.2",
         null,
         "13.3",
         null,
         "10.3",
         null
        ],
        [
         "1",
         "2021",
         "2021S051235600352",
         "35600352",
         "Dissemination area",
         "35600352",
         "5",
         "5.2",
         "0",
         "375",
         "In eighth decile",
         null,
         "35.0",
         null,
         "20.0",
         null,
         "15.0",
         null,
         "11.9",
         null,
         "13.3",
         null,
         "10.3",
         null
        ],
        [
         "2",
         "2021",
         "2021S051235600352",
         "35600352",
         "Dissemination area",
         "35600352",
         "5",
         "5.2",
         "0",
         "376",
         "In ninth decile",
         null,
         "40.0",
         null,
         "25.0",
         null,
         "20.0",
         null,
         "13.6",
         null,
         "16.7",
         null,
         "13.8",
         null
        ],
        [
         "3",
         "2021",
         "2021S051235600352",
         "35600352",
         "Dissemination area",
         "35600352",
         "5",
         "5.2",
         "0",
         "377",
         "In top decile",
         null,
         "0.0",
         null,
         "0.0",
         null,
         "0.0",
         null,
         "0.0",
         null,
         "0.0",
         null,
         "0.0",
         null
        ],
        [
         "4",
         "2021",
         "2021S051235600352",
         "35600352",
         "Dissemination area",
         "35600352",
         "5",
         "5.2",
         "0",
         "378",
         "Total - Inequality measures for the population in private households - 100% data",
         "35.0",
         "295.0",
         null,
         null,
         "...",
         null,
         "...",
         "295.0",
         null,
         null,
         "...",
         null,
         "..."
        ]
       ],
       "shape": {
        "columns": 23,
        "rows": 5
       }
      },
      "text/html": [
       "<div>\n",
       "<style scoped>\n",
       "    .dataframe tbody tr th:only-of-type {\n",
       "        vertical-align: middle;\n",
       "    }\n",
       "\n",
       "    .dataframe tbody tr th {\n",
       "        vertical-align: top;\n",
       "    }\n",
       "\n",
       "    .dataframe thead th {\n",
       "        text-align: right;\n",
       "    }\n",
       "</style>\n",
       "<table border=\"1\" class=\"dataframe\">\n",
       "  <thead>\n",
       "    <tr style=\"text-align: right;\">\n",
       "      <th></th>\n",
       "      <th>CENSUS_YEAR</th>\n",
       "      <th>DGUID</th>\n",
       "      <th>ALT_GEO_CODE</th>\n",
       "      <th>GEO_LEVEL</th>\n",
       "      <th>GEO_NAME</th>\n",
       "      <th>TNR_SF</th>\n",
       "      <th>TNR_LF</th>\n",
       "      <th>DATA_QUALITY_FLAG</th>\n",
       "      <th>CHARACTERISTIC_ID</th>\n",
       "      <th>CHARACTERISTIC_NAME</th>\n",
       "      <th>...</th>\n",
       "      <th>C2_COUNT_MEN_</th>\n",
       "      <th>SYMBOL1</th>\n",
       "      <th>C3_COUNT_WOMEN_</th>\n",
       "      <th>SYMBOL2</th>\n",
       "      <th>C10_RATE_TOTAL</th>\n",
       "      <th>SYMBOL3</th>\n",
       "      <th>C11_RATE_MEN_</th>\n",
       "      <th>SYMBOL4</th>\n",
       "      <th>C12_RATE_WOMEN_</th>\n",
       "      <th>SYMBOL5</th>\n",
       "    </tr>\n",
       "  </thead>\n",
       "  <tbody>\n",
       "    <tr>\n",
       "      <th>0</th>\n",
       "      <td>2021</td>\n",
       "      <td>2021S051235600352</td>\n",
       "      <td>35600352</td>\n",
       "      <td>Dissemination area</td>\n",
       "      <td>35600352</td>\n",
       "      <td>5</td>\n",
       "      <td>5.2</td>\n",
       "      <td>0</td>\n",
       "      <td>374</td>\n",
       "      <td>In seventh decile</td>\n",
       "      <td>...</td>\n",
       "      <td>20.0</td>\n",
       "      <td>None</td>\n",
       "      <td>15.0</td>\n",
       "      <td>None</td>\n",
       "      <td>10.2</td>\n",
       "      <td>None</td>\n",
       "      <td>13.3</td>\n",
       "      <td>None</td>\n",
       "      <td>10.3</td>\n",
       "      <td>None</td>\n",
       "    </tr>\n",
       "    <tr>\n",
       "      <th>1</th>\n",
       "      <td>2021</td>\n",
       "      <td>2021S051235600352</td>\n",
       "      <td>35600352</td>\n",
       "      <td>Dissemination area</td>\n",
       "      <td>35600352</td>\n",
       "      <td>5</td>\n",
       "      <td>5.2</td>\n",
       "      <td>0</td>\n",
       "      <td>375</td>\n",
       "      <td>In eighth decile</td>\n",
       "      <td>...</td>\n",
       "      <td>20.0</td>\n",
       "      <td>None</td>\n",
       "      <td>15.0</td>\n",
       "      <td>None</td>\n",
       "      <td>11.9</td>\n",
       "      <td>None</td>\n",
       "      <td>13.3</td>\n",
       "      <td>None</td>\n",
       "      <td>10.3</td>\n",
       "      <td>None</td>\n",
       "    </tr>\n",
       "    <tr>\n",
       "      <th>2</th>\n",
       "      <td>2021</td>\n",
       "      <td>2021S051235600352</td>\n",
       "      <td>35600352</td>\n",
       "      <td>Dissemination area</td>\n",
       "      <td>35600352</td>\n",
       "      <td>5</td>\n",
       "      <td>5.2</td>\n",
       "      <td>0</td>\n",
       "      <td>376</td>\n",
       "      <td>In ninth decile</td>\n",
       "      <td>...</td>\n",
       "      <td>25.0</td>\n",
       "      <td>None</td>\n",
       "      <td>20.0</td>\n",
       "      <td>None</td>\n",
       "      <td>13.6</td>\n",
       "      <td>None</td>\n",
       "      <td>16.7</td>\n",
       "      <td>None</td>\n",
       "      <td>13.8</td>\n",
       "      <td>None</td>\n",
       "    </tr>\n",
       "    <tr>\n",
       "      <th>3</th>\n",
       "      <td>2021</td>\n",
       "      <td>2021S051235600352</td>\n",
       "      <td>35600352</td>\n",
       "      <td>Dissemination area</td>\n",
       "      <td>35600352</td>\n",
       "      <td>5</td>\n",
       "      <td>5.2</td>\n",
       "      <td>0</td>\n",
       "      <td>377</td>\n",
       "      <td>In top decile</td>\n",
       "      <td>...</td>\n",
       "      <td>0.0</td>\n",
       "      <td>None</td>\n",
       "      <td>0.0</td>\n",
       "      <td>None</td>\n",
       "      <td>0.0</td>\n",
       "      <td>None</td>\n",
       "      <td>0.0</td>\n",
       "      <td>None</td>\n",
       "      <td>0.0</td>\n",
       "      <td>None</td>\n",
       "    </tr>\n",
       "    <tr>\n",
       "      <th>4</th>\n",
       "      <td>2021</td>\n",
       "      <td>2021S051235600352</td>\n",
       "      <td>35600352</td>\n",
       "      <td>Dissemination area</td>\n",
       "      <td>35600352</td>\n",
       "      <td>5</td>\n",
       "      <td>5.2</td>\n",
       "      <td>0</td>\n",
       "      <td>378</td>\n",
       "      <td>Total - Inequality measures for the population...</td>\n",
       "      <td>...</td>\n",
       "      <td>NaN</td>\n",
       "      <td>...</td>\n",
       "      <td>NaN</td>\n",
       "      <td>...</td>\n",
       "      <td>295.0</td>\n",
       "      <td>None</td>\n",
       "      <td>NaN</td>\n",
       "      <td>...</td>\n",
       "      <td>NaN</td>\n",
       "      <td>...</td>\n",
       "    </tr>\n",
       "  </tbody>\n",
       "</table>\n",
       "<p>5 rows × 23 columns</p>\n",
       "</div>"
      ],
      "text/plain": [
       "   CENSUS_YEAR              DGUID ALT_GEO_CODE           GEO_LEVEL  GEO_NAME  \\\n",
       "0         2021  2021S051235600352     35600352  Dissemination area  35600352   \n",
       "1         2021  2021S051235600352     35600352  Dissemination area  35600352   \n",
       "2         2021  2021S051235600352     35600352  Dissemination area  35600352   \n",
       "3         2021  2021S051235600352     35600352  Dissemination area  35600352   \n",
       "4         2021  2021S051235600352     35600352  Dissemination area  35600352   \n",
       "\n",
       "   TNR_SF  TNR_LF  DATA_QUALITY_FLAG  CHARACTERISTIC_ID  \\\n",
       "0       5     5.2                  0                374   \n",
       "1       5     5.2                  0                375   \n",
       "2       5     5.2                  0                376   \n",
       "3       5     5.2                  0                377   \n",
       "4       5     5.2                  0                378   \n",
       "\n",
       "                                 CHARACTERISTIC_NAME  ...  C2_COUNT_MEN_  \\\n",
       "0                                  In seventh decile  ...           20.0   \n",
       "1                                   In eighth decile  ...           20.0   \n",
       "2                                    In ninth decile  ...           25.0   \n",
       "3                                      In top decile  ...            0.0   \n",
       "4  Total - Inequality measures for the population...  ...            NaN   \n",
       "\n",
       "   SYMBOL1 C3_COUNT_WOMEN_  SYMBOL2 C10_RATE_TOTAL  SYMBOL3 C11_RATE_MEN_  \\\n",
       "0     None            15.0     None           10.2     None          13.3   \n",
       "1     None            15.0     None           11.9     None          13.3   \n",
       "2     None            20.0     None           13.6     None          16.7   \n",
       "3     None             0.0     None            0.0     None           0.0   \n",
       "4      ...             NaN      ...          295.0     None           NaN   \n",
       "\n",
       "   SYMBOL4 C12_RATE_WOMEN_  SYMBOL5  \n",
       "0     None            10.3     None  \n",
       "1     None            10.3     None  \n",
       "2     None            13.8     None  \n",
       "3     None             0.0     None  \n",
       "4      ...             NaN      ...  \n",
       "\n",
       "[5 rows x 23 columns]"
      ]
     },
     "execution_count": 1,
     "metadata": {},
     "output_type": "execute_result"
    }
   ],
   "source": [
    "import oracledb\n",
    "import pandas as pd\n",
    "import os\n",
    "from dotenv import load_dotenv\n",
    "\n",
    "# Define the connection string using the Oracle Wallet and credentials in your .env file\n",
    "dsn = \"dfgyyc11_high\"\n",
    "load_dotenv(override=True) # You can comment this out if you are not using a .env file\n",
    "# If you are not using a .env file to store your credentials, you can manually add them below as strings\n",
    "wallet_path = os.getenv('wallet_path')\n",
    "username = os.getenv('username')\n",
    "password = os.getenv('password')\n",
    "\n",
    "connection = oracledb.connect(dsn=dsn, config_dir = wallet_path, user = username, password = password)\n",
    "\n",
    "# Sample query below\n",
    "query = '''\n",
    "    SELECT * FROM STATSCAN.CDS_ONTARIO\n",
    "    WHERE ROWNUM <= 10\n",
    "'''\n",
    "\n",
    "# # Create a cursor and run a query\n",
    "# cursor = connection.cursor()\n",
    "# cursor.execute(query)\n",
    "\n",
    "# # Fetch the results\n",
    "# for row in cursor:\n",
    "#     print(row)\n",
    "\n",
    "\n",
    "# Alternatively, we can use pandas to retrieve and read into a dataframe\n",
    "df = pd.read_sql(query, con = connection)\n",
    "\n",
    "# Clean up\n",
    "connection.close()\n",
    "\n",
    "df.head()\n"
   ]
  },
  {
   "attachments": {
    "image.png": {
     "image/png": "[encoded data removed]"
    }
   },
   "cell_type": "markdown",
   "id": "64d3eadb",
   "metadata": {},
   "source": [
    "# Organizations, Schemas, and Tables\n",
    "There are 8 organizations (and 8 respective schemas) from which we can gather data. Below is a table of all schemas from the link: https://docs.google.com/document/d/1bofcf1-oy9kJOImRBQg_jkRoT5XvAlGf/edit?tab=t.0\n",
    "![image.png](attachment:image.png)"
   ]
  },
  {
   "cell_type": "code",
   "execution_count": 2,
   "id": "3cda5f00",
   "metadata": {},
   "outputs": [
    {
     "name": "stdout",
     "output_type": "stream",
     "text": [
      "Schema: STATSCAN\n"
     ]
    },
    {
     "name": "stderr",
     "output_type": "stream",
     "text": [
      "C:\\Users\\j_chr\\AppData\\Local\\Temp\\ipykernel_37196\\1513682367.py:14: UserWarning: pandas only supports SQLAlchemy connectable (engine/connection) or database string URI or sqlite3 DBAPI2 connection. Other DBAPI2 objects are not tested. Please consider using SQLAlchemy.\n",
      "  df = pd.read_sql(query, con=connection)\n"
     ]
    },
    {
     "data": {
      "application/vnd.microsoft.datawrangler.viewer.v0+json": {
       "columns": [
        {
         "name": "index",
         "rawType": "int64",
         "type": "integer"
        },
        {
         "name": "TABLE_NAME",
         "rawType": "object",
         "type": "string"
        }
       ],
       "conversionMethod": "pd.DataFrame",
       "ref": "d743834b-de16-45ca-9d50-05ae65630d0b",
       "rows": [
        [
         "0",
         "CANADA_PROVINCES_TERRITORIES"
        ],
        [
         "1",
         "CDS_ATLANTIC"
        ],
        [
         "2",
         "CDS_BRITISHCOLUMBIA"
        ],
        [
         "3",
         "CDS_ONTARIO"
        ],
        [
         "4",
         "CDS_PRAIRIES"
        ],
        [
         "5",
         "CDS_QUEBEC"
        ],
        [
         "6",
         "CDS_TERRITORIES"
        ],
        [
         "7",
         "CLOUD_INGEST_LOG$"
        ],
        [
         "8",
         "CMAS_CAS_CSDS"
        ],
        [
         "9",
         "DBTOOLS$EXECUTION_HISTORY"
        ],
        [
         "10",
         "FORWARD_SORTATION_AREAS"
        ],
        [
         "11",
         "HEALTH_REGIONS"
        ],
        [
         "12",
         "HIERARCHICAL_CHARACTERISTICS"
        ]
       ],
       "shape": {
        "columns": 1,
        "rows": 13
       }
      },
      "text/html": [
       "<div>\n",
       "<style scoped>\n",
       "    .dataframe tbody tr th:only-of-type {\n",
       "        vertical-align: middle;\n",
       "    }\n",
       "\n",
       "    .dataframe tbody tr th {\n",
       "        vertical-align: top;\n",
       "    }\n",
       "\n",
       "    .dataframe thead th {\n",
       "        text-align: right;\n",
       "    }\n",
       "</style>\n",
       "<table border=\"1\" class=\"dataframe\">\n",
       "  <thead>\n",
       "    <tr style=\"text-align: right;\">\n",
       "      <th></th>\n",
       "      <th>TABLE_NAME</th>\n",
       "    </tr>\n",
       "  </thead>\n",
       "  <tbody>\n",
       "    <tr>\n",
       "      <th>0</th>\n",
       "      <td>CANADA_PROVINCES_TERRITORIES</td>\n",
       "    </tr>\n",
       "    <tr>\n",
       "      <th>1</th>\n",
       "      <td>CDS_ATLANTIC</td>\n",
       "    </tr>\n",
       "    <tr>\n",
       "      <th>2</th>\n",
       "      <td>CDS_BRITISHCOLUMBIA</td>\n",
       "    </tr>\n",
       "    <tr>\n",
       "      <th>3</th>\n",
       "      <td>CDS_ONTARIO</td>\n",
       "    </tr>\n",
       "    <tr>\n",
       "      <th>4</th>\n",
       "      <td>CDS_PRAIRIES</td>\n",
       "    </tr>\n",
       "    <tr>\n",
       "      <th>5</th>\n",
       "      <td>CDS_QUEBEC</td>\n",
       "    </tr>\n",
       "    <tr>\n",
       "      <th>6</th>\n",
       "      <td>CDS_TERRITORIES</td>\n",
       "    </tr>\n",
       "    <tr>\n",
       "      <th>7</th>\n",
       "      <td>CLOUD_INGEST_LOG$</td>\n",
       "    </tr>\n",
       "    <tr>\n",
       "      <th>8</th>\n",
       "      <td>CMAS_CAS_CSDS</td>\n",
       "    </tr>\n",
       "    <tr>\n",
       "      <th>9</th>\n",
       "      <td>DBTOOLS$EXECUTION_HISTORY</td>\n",
       "    </tr>\n",
       "    <tr>\n",
       "      <th>10</th>\n",
       "      <td>FORWARD_SORTATION_AREAS</td>\n",
       "    </tr>\n",
       "    <tr>\n",
       "      <th>11</th>\n",
       "      <td>HEALTH_REGIONS</td>\n",
       "    </tr>\n",
       "    <tr>\n",
       "      <th>12</th>\n",
       "      <td>HIERARCHICAL_CHARACTERISTICS</td>\n",
       "    </tr>\n",
       "  </tbody>\n",
       "</table>\n",
       "</div>"
      ],
      "text/plain": [
       "                      TABLE_NAME\n",
       "0   CANADA_PROVINCES_TERRITORIES\n",
       "1                   CDS_ATLANTIC\n",
       "2            CDS_BRITISHCOLUMBIA\n",
       "3                    CDS_ONTARIO\n",
       "4                   CDS_PRAIRIES\n",
       "5                     CDS_QUEBEC\n",
       "6                CDS_TERRITORIES\n",
       "7              CLOUD_INGEST_LOG$\n",
       "8                  CMAS_CAS_CSDS\n",
       "9      DBTOOLS$EXECUTION_HISTORY\n",
       "10       FORWARD_SORTATION_AREAS\n",
       "11                HEALTH_REGIONS\n",
       "12  HIERARCHICAL_CHARACTERISTICS"
      ]
     },
     "metadata": {},
     "output_type": "display_data"
    },
    {
     "name": "stdout",
     "output_type": "stream",
     "text": [
      "Schema: CANADA211\n"
     ]
    },
    {
     "name": "stderr",
     "output_type": "stream",
     "text": [
      "C:\\Users\\j_chr\\AppData\\Local\\Temp\\ipykernel_37196\\1513682367.py:14: UserWarning: pandas only supports SQLAlchemy connectable (engine/connection) or database string URI or sqlite3 DBAPI2 connection. Other DBAPI2 objects are not tested. Please consider using SQLAlchemy.\n",
      "  df = pd.read_sql(query, con=connection)\n"
     ]
    },
    {
     "data": {
      "application/vnd.microsoft.datawrangler.viewer.v0+json": {
       "columns": [
        {
         "name": "index",
         "rawType": "int64",
         "type": "integer"
        },
        {
         "name": "TABLE_NAME",
         "rawType": "object",
         "type": "string"
        }
       ],
       "conversionMethod": "pd.DataFrame",
       "ref": "c129d672-874a-4e5b-8c6e-9cb87b05bc69",
       "rows": [
        [
         "0",
         "BC_211_CALLREPORTS"
        ],
        [
         "1",
         "BC_211_NEEDS"
        ],
        [
         "2",
         "BC_211_REFERRALS"
        ],
        [
         "3",
         "CALGARY_211_CALLREPORTS"
        ],
        [
         "4",
         "CALGARY_211_NEEDS"
        ],
        [
         "5",
         "CALGARY_211_REFERRALS"
        ],
        [
         "6",
         "CENTRAL_211_CALLREPORTS"
        ],
        [
         "7",
         "CENTRAL_211_NEEDS"
        ],
        [
         "8",
         "CENTRAL_211_REFERRALS"
        ],
        [
         "9",
         "DBTOOLS$EXECUTION_HISTORY"
        ],
        [
         "10",
         "EDMONTON_211_CALLREPORTS"
        ],
        [
         "11",
         "EDMONTON_211_NEEDS"
        ],
        [
         "12",
         "EDMONTON_211_REFERRALS"
        ],
        [
         "13",
         "NOVASCOTIA_211_CALLREPORTS"
        ],
        [
         "14",
         "NOVASCOTIA_211_NEEDS"
        ],
        [
         "15",
         "NOVASCOTIA_211_REFERRALS"
        ],
        [
         "16",
         "ONTARIO_211_CALLREPORTS"
        ],
        [
         "17",
         "ONTARIO_211_NEEDS"
        ],
        [
         "18",
         "ONTARIO_211_REFERRALS"
        ],
        [
         "19",
         "PEI_211_CALLREPORTS"
        ],
        [
         "20",
         "PEI_211_NEEDS"
        ],
        [
         "21",
         "PEI_211_REFERRALS"
        ],
        [
         "22",
         "SASKATCHEWAN_211_CALLREPORTS"
        ],
        [
         "23",
         "SASKATCHEWAN_211_NEEDS"
        ],
        [
         "24",
         "SASKATCHEWAN_211_REFERRALS"
        ]
       ],
       "shape": {
        "columns": 1,
        "rows": 25
       }
      },
      "text/html": [
       "<div>\n",
       "<style scoped>\n",
       "    .dataframe tbody tr th:only-of-type {\n",
       "        vertical-align: middle;\n",
       "    }\n",
       "\n",
       "    .dataframe tbody tr th {\n",
       "        vertical-align: top;\n",
       "    }\n",
       "\n",
       "    .dataframe thead th {\n",
       "        text-align: right;\n",
       "    }\n",
       "</style>\n",
       "<table border=\"1\" class=\"dataframe\">\n",
       "  <thead>\n",
       "    <tr style=\"text-align: right;\">\n",
       "      <th></th>\n",
       "      <th>TABLE_NAME</th>\n",
       "    </tr>\n",
       "  </thead>\n",
       "  <tbody>\n",
       "    <tr>\n",
       "      <th>0</th>\n",
       "      <td>BC_211_CALLREPORTS</td>\n",
       "    </tr>\n",
       "    <tr>\n",
       "      <th>1</th>\n",
       "      <td>BC_211_NEEDS</td>\n",
       "    </tr>\n",
       "    <tr>\n",
       "      <th>2</th>\n",
       "      <td>BC_211_REFERRALS</td>\n",
       "    </tr>\n",
       "    <tr>\n",
       "      <th>3</th>\n",
       "      <td>CALGARY_211_CALLREPORTS</td>\n",
       "    </tr>\n",
       "    <tr>\n",
       "      <th>4</th>\n",
       "      <td>CALGARY_211_NEEDS</td>\n",
       "    </tr>\n",
       "    <tr>\n",
       "      <th>5</th>\n",
       "      <td>CALGARY_211_REFERRALS</td>\n",
       "    </tr>\n",
       "    <tr>\n",
       "      <th>6</th>\n",
       "      <td>CENTRAL_211_CALLREPORTS</td>\n",
       "    </tr>\n",
       "    <tr>\n",
       "      <th>7</th>\n",
       "      <td>CENTRAL_211_NEEDS</td>\n",
       "    </tr>\n",
       "    <tr>\n",
       "      <th>8</th>\n",
       "      <td>CENTRAL_211_REFERRALS</td>\n",
       "    </tr>\n",
       "    <tr>\n",
       "      <th>9</th>\n",
       "      <td>DBTOOLS$EXECUTION_HISTORY</td>\n",
       "    </tr>\n",
       "    <tr>\n",
       "      <th>10</th>\n",
       "      <td>EDMONTON_211_CALLREPORTS</td>\n",
       "    </tr>\n",
       "    <tr>\n",
       "      <th>11</th>\n",
       "      <td>EDMONTON_211_NEEDS</td>\n",
       "    </tr>\n",
       "    <tr>\n",
       "      <th>12</th>\n",
       "      <td>EDMONTON_211_REFERRALS</td>\n",
       "    </tr>\n",
       "    <tr>\n",
       "      <th>13</th>\n",
       "      <td>NOVASCOTIA_211_CALLREPORTS</td>\n",
       "    </tr>\n",
       "    <tr>\n",
       "      <th>14</th>\n",
       "      <td>NOVASCOTIA_211_NEEDS</td>\n",
       "    </tr>\n",
       "    <tr>\n",
       "      <th>15</th>\n",
       "      <td>NOVASCOTIA_211_REFERRALS</td>\n",
       "    </tr>\n",
       "    <tr>\n",
       "      <th>16</th>\n",
       "      <td>ONTARIO_211_CALLREPORTS</td>\n",
       "    </tr>\n",
       "    <tr>\n",
       "      <th>17</th>\n",
       "      <td>ONTARIO_211_NEEDS</td>\n",
       "    </tr>\n",
       "    <tr>\n",
       "      <th>18</th>\n",
       "      <td>ONTARIO_211_REFERRALS</td>\n",
       "    </tr>\n",
       "    <tr>\n",
       "      <th>19</th>\n",
       "      <td>PEI_211_CALLREPORTS</td>\n",
       "    </tr>\n",
       "    <tr>\n",
       "      <th>20</th>\n",
       "      <td>PEI_211_NEEDS</td>\n",
       "    </tr>\n",
       "    <tr>\n",
       "      <th>21</th>\n",
       "      <td>PEI_211_REFERRALS</td>\n",
       "    </tr>\n",
       "    <tr>\n",
       "      <th>22</th>\n",
       "      <td>SASKATCHEWAN_211_CALLREPORTS</td>\n",
       "    </tr>\n",
       "    <tr>\n",
       "      <th>23</th>\n",
       "      <td>SASKATCHEWAN_211_NEEDS</td>\n",
       "    </tr>\n",
       "    <tr>\n",
       "      <th>24</th>\n",
       "      <td>SASKATCHEWAN_211_REFERRALS</td>\n",
       "    </tr>\n",
       "  </tbody>\n",
       "</table>\n",
       "</div>"
      ],
      "text/plain": [
       "                      TABLE_NAME\n",
       "0             BC_211_CALLREPORTS\n",
       "1                   BC_211_NEEDS\n",
       "2               BC_211_REFERRALS\n",
       "3        CALGARY_211_CALLREPORTS\n",
       "4              CALGARY_211_NEEDS\n",
       "5          CALGARY_211_REFERRALS\n",
       "6        CENTRAL_211_CALLREPORTS\n",
       "7              CENTRAL_211_NEEDS\n",
       "8          CENTRAL_211_REFERRALS\n",
       "9      DBTOOLS$EXECUTION_HISTORY\n",
       "10      EDMONTON_211_CALLREPORTS\n",
       "11            EDMONTON_211_NEEDS\n",
       "12        EDMONTON_211_REFERRALS\n",
       "13    NOVASCOTIA_211_CALLREPORTS\n",
       "14          NOVASCOTIA_211_NEEDS\n",
       "15      NOVASCOTIA_211_REFERRALS\n",
       "16       ONTARIO_211_CALLREPORTS\n",
       "17             ONTARIO_211_NEEDS\n",
       "18         ONTARIO_211_REFERRALS\n",
       "19           PEI_211_CALLREPORTS\n",
       "20                 PEI_211_NEEDS\n",
       "21             PEI_211_REFERRALS\n",
       "22  SASKATCHEWAN_211_CALLREPORTS\n",
       "23        SASKATCHEWAN_211_NEEDS\n",
       "24    SASKATCHEWAN_211_REFERRALS"
      ]
     },
     "metadata": {},
     "output_type": "display_data"
    },
    {
     "name": "stdout",
     "output_type": "stream",
     "text": [
      "Schema: CMHANATIONAL\n"
     ]
    },
    {
     "name": "stderr",
     "output_type": "stream",
     "text": [
      "C:\\Users\\j_chr\\AppData\\Local\\Temp\\ipykernel_37196\\1513682367.py:14: UserWarning: pandas only supports SQLAlchemy connectable (engine/connection) or database string URI or sqlite3 DBAPI2 connection. Other DBAPI2 objects are not tested. Please consider using SQLAlchemy.\n",
      "  df = pd.read_sql(query, con=connection)\n"
     ]
    },
    {
     "data": {
      "application/vnd.microsoft.datawrangler.viewer.v0+json": {
       "columns": [
        {
         "name": "index",
         "rawType": "int64",
         "type": "integer"
        },
        {
         "name": "TABLE_NAME",
         "rawType": "object",
         "type": "string"
        }
       ],
       "conversionMethod": "pd.DataFrame",
       "ref": "7e07dd2c-4f59-4a89-8677-8fc5a4b56184",
       "rows": [
        [
         "0",
         "INDICATOR_TABLES_JOINED"
        ],
        [
         "1",
         "INDICATOR_TABLES_JOINED_COLUMN_NAMES"
        ]
       ],
       "shape": {
        "columns": 1,
        "rows": 2
       }
      },
      "text/html": [
       "<div>\n",
       "<style scoped>\n",
       "    .dataframe tbody tr th:only-of-type {\n",
       "        vertical-align: middle;\n",
       "    }\n",
       "\n",
       "    .dataframe tbody tr th {\n",
       "        vertical-align: top;\n",
       "    }\n",
       "\n",
       "    .dataframe thead th {\n",
       "        text-align: right;\n",
       "    }\n",
       "</style>\n",
       "<table border=\"1\" class=\"dataframe\">\n",
       "  <thead>\n",
       "    <tr style=\"text-align: right;\">\n",
       "      <th></th>\n",
       "      <th>TABLE_NAME</th>\n",
       "    </tr>\n",
       "  </thead>\n",
       "  <tbody>\n",
       "    <tr>\n",
       "      <th>0</th>\n",
       "      <td>INDICATOR_TABLES_JOINED</td>\n",
       "    </tr>\n",
       "    <tr>\n",
       "      <th>1</th>\n",
       "      <td>INDICATOR_TABLES_JOINED_COLUMN_NAMES</td>\n",
       "    </tr>\n",
       "  </tbody>\n",
       "</table>\n",
       "</div>"
      ],
      "text/plain": [
       "                             TABLE_NAME\n",
       "0               INDICATOR_TABLES_JOINED\n",
       "1  INDICATOR_TABLES_JOINED_COLUMN_NAMES"
      ]
     },
     "metadata": {},
     "output_type": "display_data"
    },
    {
     "name": "stdout",
     "output_type": "stream",
     "text": [
      "Schema: DISTRESSCENTRE\n"
     ]
    },
    {
     "name": "stderr",
     "output_type": "stream",
     "text": [
      "C:\\Users\\j_chr\\AppData\\Local\\Temp\\ipykernel_37196\\1513682367.py:14: UserWarning: pandas only supports SQLAlchemy connectable (engine/connection) or database string URI or sqlite3 DBAPI2 connection. Other DBAPI2 objects are not tested. Please consider using SQLAlchemy.\n",
      "  df = pd.read_sql(query, con=connection)\n"
     ]
    },
    {
     "data": {
      "application/vnd.microsoft.datawrangler.viewer.v0+json": {
       "columns": [
        {
         "name": "index",
         "rawType": "int64",
         "type": "integer"
        },
        {
         "name": "TABLE_NAME",
         "rawType": "object",
         "type": "string"
        }
       ],
       "conversionMethod": "pd.DataFrame",
       "ref": "2ba8dcc5-780e-4f04-a001-5ce769cb18f9",
       "rows": [
        [
         "0",
         "CLOUD_INGEST_LOG$"
        ],
        [
         "1",
         "CRISIS_CT_DATA_2019"
        ],
        [
         "2",
         "CRISIS_CT_DATA_2020"
        ],
        [
         "3",
         "CRISIS_CT_DATA_2021_2022"
        ],
        [
         "4",
         "CRISIS_CT_DATA_2023_2024"
        ],
        [
         "5",
         "CRSIS_CT_DATA_2015_2016"
        ],
        [
         "6",
         "CRSIS_CT_DATA_2017_2018"
        ],
        [
         "7",
         "DBTOOLS$EXECUTION_HISTORY"
        ]
       ],
       "shape": {
        "columns": 1,
        "rows": 8
       }
      },
      "text/html": [
       "<div>\n",
       "<style scoped>\n",
       "    .dataframe tbody tr th:only-of-type {\n",
       "        vertical-align: middle;\n",
       "    }\n",
       "\n",
       "    .dataframe tbody tr th {\n",
       "        vertical-align: top;\n",
       "    }\n",
       "\n",
       "    .dataframe thead th {\n",
       "        text-align: right;\n",
       "    }\n",
       "</style>\n",
       "<table border=\"1\" class=\"dataframe\">\n",
       "  <thead>\n",
       "    <tr style=\"text-align: right;\">\n",
       "      <th></th>\n",
       "      <th>TABLE_NAME</th>\n",
       "    </tr>\n",
       "  </thead>\n",
       "  <tbody>\n",
       "    <tr>\n",
       "      <th>0</th>\n",
       "      <td>CLOUD_INGEST_LOG$</td>\n",
       "    </tr>\n",
       "    <tr>\n",
       "      <th>1</th>\n",
       "      <td>CRISIS_CT_DATA_2019</td>\n",
       "    </tr>\n",
       "    <tr>\n",
       "      <th>2</th>\n",
       "      <td>CRISIS_CT_DATA_2020</td>\n",
       "    </tr>\n",
       "    <tr>\n",
       "      <th>3</th>\n",
       "      <td>CRISIS_CT_DATA_2021_2022</td>\n",
       "    </tr>\n",
       "    <tr>\n",
       "      <th>4</th>\n",
       "      <td>CRISIS_CT_DATA_2023_2024</td>\n",
       "    </tr>\n",
       "    <tr>\n",
       "      <th>5</th>\n",
       "      <td>CRSIS_CT_DATA_2015_2016</td>\n",
       "    </tr>\n",
       "    <tr>\n",
       "      <th>6</th>\n",
       "      <td>CRSIS_CT_DATA_2017_2018</td>\n",
       "    </tr>\n",
       "    <tr>\n",
       "      <th>7</th>\n",
       "      <td>DBTOOLS$EXECUTION_HISTORY</td>\n",
       "    </tr>\n",
       "  </tbody>\n",
       "</table>\n",
       "</div>"
      ],
      "text/plain": [
       "                  TABLE_NAME\n",
       "0          CLOUD_INGEST_LOG$\n",
       "1        CRISIS_CT_DATA_2019\n",
       "2        CRISIS_CT_DATA_2020\n",
       "3   CRISIS_CT_DATA_2021_2022\n",
       "4   CRISIS_CT_DATA_2023_2024\n",
       "5    CRSIS_CT_DATA_2015_2016\n",
       "6    CRSIS_CT_DATA_2017_2018\n",
       "7  DBTOOLS$EXECUTION_HISTORY"
      ]
     },
     "metadata": {},
     "output_type": "display_data"
    },
    {
     "name": "stdout",
     "output_type": "stream",
     "text": [
      "Schema: BBBS\n"
     ]
    },
    {
     "name": "stderr",
     "output_type": "stream",
     "text": [
      "C:\\Users\\j_chr\\AppData\\Local\\Temp\\ipykernel_37196\\1513682367.py:14: UserWarning: pandas only supports SQLAlchemy connectable (engine/connection) or database string URI or sqlite3 DBAPI2 connection. Other DBAPI2 objects are not tested. Please consider using SQLAlchemy.\n",
      "  df = pd.read_sql(query, con=connection)\n"
     ]
    },
    {
     "data": {
      "application/vnd.microsoft.datawrangler.viewer.v0+json": {
       "columns": [
        {
         "name": "index",
         "rawType": "int64",
         "type": "integer"
        },
        {
         "name": "TABLE_NAME",
         "rawType": "object",
         "type": "string"
        }
       ],
       "conversionMethod": "pd.DataFrame",
       "ref": "2b85803a-9871-4476-b395-f45b01e01e00",
       "rows": [],
       "shape": {
        "columns": 1,
        "rows": 0
       }
      },
      "text/html": [
       "<div>\n",
       "<style scoped>\n",
       "    .dataframe tbody tr th:only-of-type {\n",
       "        vertical-align: middle;\n",
       "    }\n",
       "\n",
       "    .dataframe tbody tr th {\n",
       "        vertical-align: top;\n",
       "    }\n",
       "\n",
       "    .dataframe thead th {\n",
       "        text-align: right;\n",
       "    }\n",
       "</style>\n",
       "<table border=\"1\" class=\"dataframe\">\n",
       "  <thead>\n",
       "    <tr style=\"text-align: right;\">\n",
       "      <th></th>\n",
       "      <th>TABLE_NAME</th>\n",
       "    </tr>\n",
       "  </thead>\n",
       "  <tbody>\n",
       "  </tbody>\n",
       "</table>\n",
       "</div>"
      ],
      "text/plain": [
       "Empty DataFrame\n",
       "Columns: [TABLE_NAME]\n",
       "Index: []"
      ]
     },
     "metadata": {},
     "output_type": "display_data"
    },
    {
     "name": "stdout",
     "output_type": "stream",
     "text": [
      "Schema: MENTALHEALTHRESEARCH\n"
     ]
    },
    {
     "name": "stderr",
     "output_type": "stream",
     "text": [
      "C:\\Users\\j_chr\\AppData\\Local\\Temp\\ipykernel_37196\\1513682367.py:14: UserWarning: pandas only supports SQLAlchemy connectable (engine/connection) or database string URI or sqlite3 DBAPI2 connection. Other DBAPI2 objects are not tested. Please consider using SQLAlchemy.\n",
      "  df = pd.read_sql(query, con=connection)\n"
     ]
    },
    {
     "data": {
      "application/vnd.microsoft.datawrangler.viewer.v0+json": {
       "columns": [
        {
         "name": "index",
         "rawType": "int64",
         "type": "integer"
        },
        {
         "name": "TABLE_NAME",
         "rawType": "object",
         "type": "string"
        }
       ],
       "conversionMethod": "pd.DataFrame",
       "ref": "e6c0bf39-bba5-4d98-8bb6-a3e02ef354b5",
       "rows": [
        [
         "0",
         "Guard_Minds_2023_Final"
        ],
        [
         "1",
         "MHRC_13_23"
        ],
        [
         "2",
         "MHRC_20_22"
        ],
        [
         "3",
         "MHRC_Poll_21"
        ]
       ],
       "shape": {
        "columns": 1,
        "rows": 4
       }
      },
      "text/html": [
       "<div>\n",
       "<style scoped>\n",
       "    .dataframe tbody tr th:only-of-type {\n",
       "        vertical-align: middle;\n",
       "    }\n",
       "\n",
       "    .dataframe tbody tr th {\n",
       "        vertical-align: top;\n",
       "    }\n",
       "\n",
       "    .dataframe thead th {\n",
       "        text-align: right;\n",
       "    }\n",
       "</style>\n",
       "<table border=\"1\" class=\"dataframe\">\n",
       "  <thead>\n",
       "    <tr style=\"text-align: right;\">\n",
       "      <th></th>\n",
       "      <th>TABLE_NAME</th>\n",
       "    </tr>\n",
       "  </thead>\n",
       "  <tbody>\n",
       "    <tr>\n",
       "      <th>0</th>\n",
       "      <td>Guard_Minds_2023_Final</td>\n",
       "    </tr>\n",
       "    <tr>\n",
       "      <th>1</th>\n",
       "      <td>MHRC_13_23</td>\n",
       "    </tr>\n",
       "    <tr>\n",
       "      <th>2</th>\n",
       "      <td>MHRC_20_22</td>\n",
       "    </tr>\n",
       "    <tr>\n",
       "      <th>3</th>\n",
       "      <td>MHRC_Poll_21</td>\n",
       "    </tr>\n",
       "  </tbody>\n",
       "</table>\n",
       "</div>"
      ],
      "text/plain": [
       "               TABLE_NAME\n",
       "0  Guard_Minds_2023_Final\n",
       "1              MHRC_13_23\n",
       "2              MHRC_20_22\n",
       "3            MHRC_Poll_21"
      ]
     },
     "metadata": {},
     "output_type": "display_data"
    },
    {
     "name": "stdout",
     "output_type": "stream",
     "text": [
      "Schema: CMHAEDMONTONCRISISLINE\n"
     ]
    },
    {
     "name": "stderr",
     "output_type": "stream",
     "text": [
      "C:\\Users\\j_chr\\AppData\\Local\\Temp\\ipykernel_37196\\1513682367.py:14: UserWarning: pandas only supports SQLAlchemy connectable (engine/connection) or database string URI or sqlite3 DBAPI2 connection. Other DBAPI2 objects are not tested. Please consider using SQLAlchemy.\n",
      "  df = pd.read_sql(query, con=connection)\n"
     ]
    },
    {
     "data": {
      "application/vnd.microsoft.datawrangler.viewer.v0+json": {
       "columns": [
        {
         "name": "index",
         "rawType": "int64",
         "type": "integer"
        },
        {
         "name": "TABLE_NAME",
         "rawType": "object",
         "type": "string"
        }
       ],
       "conversionMethod": "pd.DataFrame",
       "ref": "77bf9852-debf-436d-a667-0b66a4c0dbf6",
       "rows": [
        [
         "0",
         "CALLREPORTS"
        ],
        [
         "1",
         "CALLREPORTSLINKEDTOGETHER"
        ],
        [
         "2",
         "REFERRALS"
        ]
       ],
       "shape": {
        "columns": 1,
        "rows": 3
       }
      },
      "text/html": [
       "<div>\n",
       "<style scoped>\n",
       "    .dataframe tbody tr th:only-of-type {\n",
       "        vertical-align: middle;\n",
       "    }\n",
       "\n",
       "    .dataframe tbody tr th {\n",
       "        vertical-align: top;\n",
       "    }\n",
       "\n",
       "    .dataframe thead th {\n",
       "        text-align: right;\n",
       "    }\n",
       "</style>\n",
       "<table border=\"1\" class=\"dataframe\">\n",
       "  <thead>\n",
       "    <tr style=\"text-align: right;\">\n",
       "      <th></th>\n",
       "      <th>TABLE_NAME</th>\n",
       "    </tr>\n",
       "  </thead>\n",
       "  <tbody>\n",
       "    <tr>\n",
       "      <th>0</th>\n",
       "      <td>CALLREPORTS</td>\n",
       "    </tr>\n",
       "    <tr>\n",
       "      <th>1</th>\n",
       "      <td>CALLREPORTSLINKEDTOGETHER</td>\n",
       "    </tr>\n",
       "    <tr>\n",
       "      <th>2</th>\n",
       "      <td>REFERRALS</td>\n",
       "    </tr>\n",
       "  </tbody>\n",
       "</table>\n",
       "</div>"
      ],
      "text/plain": [
       "                  TABLE_NAME\n",
       "0                CALLREPORTS\n",
       "1  CALLREPORTSLINKEDTOGETHER\n",
       "2                  REFERRALS"
      ]
     },
     "metadata": {},
     "output_type": "display_data"
    },
    {
     "name": "stdout",
     "output_type": "stream",
     "text": [
      "Schema: CMHASUICIDEPREVENTION\n"
     ]
    },
    {
     "name": "stderr",
     "output_type": "stream",
     "text": [
      "C:\\Users\\j_chr\\AppData\\Local\\Temp\\ipykernel_37196\\1513682367.py:14: UserWarning: pandas only supports SQLAlchemy connectable (engine/connection) or database string URI or sqlite3 DBAPI2 connection. Other DBAPI2 objects are not tested. Please consider using SQLAlchemy.\n",
      "  df = pd.read_sql(query, con=connection)\n"
     ]
    },
    {
     "data": {
      "application/vnd.microsoft.datawrangler.viewer.v0+json": {
       "columns": [
        {
         "name": "index",
         "rawType": "int64",
         "type": "integer"
        },
        {
         "name": "TABLE_NAME",
         "rawType": "object",
         "type": "string"
        }
       ],
       "conversionMethod": "pd.DataFrame",
       "ref": "59a7a840-f25a-495f-8735-be7b7bcf50d2",
       "rows": [
        [
         "0",
         "ASIST_PROGRAMS_COMBINED"
        ],
        [
         "1",
         "A_2020_21_ASIST_WORKSHOPS"
        ],
        [
         "2",
         "A_2020_21_NON_ASIST_WORKSHOPS"
        ],
        [
         "3",
         "A_2021_22_ASIST_WORKSHOPS"
        ],
        [
         "4",
         "A_2021_22_NON_ASIST_WORKSHOPS"
        ],
        [
         "5",
         "A_2022_23_ASIST_WORKSHOPS"
        ],
        [
         "6",
         "A_2022_23_NON_ASIST_WORKSHOPS"
        ],
        [
         "7",
         "A_2023_24_ASIST_WORKSHOPS"
        ],
        [
         "8",
         "A_2023_24_NON_ASIST_WORKSHOPS"
        ],
        [
         "9",
         "DATA_DICTIONARY"
        ],
        [
         "10",
         "NON_ASIST_PROGRAMS_COMBINED"
        ],
        [
         "11",
         "WORKSHOP_DESCRIPTIONS"
        ]
       ],
       "shape": {
        "columns": 1,
        "rows": 12
       }
      },
      "text/html": [
       "<div>\n",
       "<style scoped>\n",
       "    .dataframe tbody tr th:only-of-type {\n",
       "        vertical-align: middle;\n",
       "    }\n",
       "\n",
       "    .dataframe tbody tr th {\n",
       "        vertical-align: top;\n",
       "    }\n",
       "\n",
       "    .dataframe thead th {\n",
       "        text-align: right;\n",
       "    }\n",
       "</style>\n",
       "<table border=\"1\" class=\"dataframe\">\n",
       "  <thead>\n",
       "    <tr style=\"text-align: right;\">\n",
       "      <th></th>\n",
       "      <th>TABLE_NAME</th>\n",
       "    </tr>\n",
       "  </thead>\n",
       "  <tbody>\n",
       "    <tr>\n",
       "      <th>0</th>\n",
       "      <td>ASIST_PROGRAMS_COMBINED</td>\n",
       "    </tr>\n",
       "    <tr>\n",
       "      <th>1</th>\n",
       "      <td>A_2020_21_ASIST_WORKSHOPS</td>\n",
       "    </tr>\n",
       "    <tr>\n",
       "      <th>2</th>\n",
       "      <td>A_2020_21_NON_ASIST_WORKSHOPS</td>\n",
       "    </tr>\n",
       "    <tr>\n",
       "      <th>3</th>\n",
       "      <td>A_2021_22_ASIST_WORKSHOPS</td>\n",
       "    </tr>\n",
       "    <tr>\n",
       "      <th>4</th>\n",
       "      <td>A_2021_22_NON_ASIST_WORKSHOPS</td>\n",
       "    </tr>\n",
       "    <tr>\n",
       "      <th>5</th>\n",
       "      <td>A_2022_23_ASIST_WORKSHOPS</td>\n",
       "    </tr>\n",
       "    <tr>\n",
       "      <th>6</th>\n",
       "      <td>A_2022_23_NON_ASIST_WORKSHOPS</td>\n",
       "    </tr>\n",
       "    <tr>\n",
       "      <th>7</th>\n",
       "      <td>A_2023_24_ASIST_WORKSHOPS</td>\n",
       "    </tr>\n",
       "    <tr>\n",
       "      <th>8</th>\n",
       "      <td>A_2023_24_NON_ASIST_WORKSHOPS</td>\n",
       "    </tr>\n",
       "    <tr>\n",
       "      <th>9</th>\n",
       "      <td>DATA_DICTIONARY</td>\n",
       "    </tr>\n",
       "    <tr>\n",
       "      <th>10</th>\n",
       "      <td>NON_ASIST_PROGRAMS_COMBINED</td>\n",
       "    </tr>\n",
       "    <tr>\n",
       "      <th>11</th>\n",
       "      <td>WORKSHOP_DESCRIPTIONS</td>\n",
       "    </tr>\n",
       "  </tbody>\n",
       "</table>\n",
       "</div>"
      ],
      "text/plain": [
       "                       TABLE_NAME\n",
       "0         ASIST_PROGRAMS_COMBINED\n",
       "1       A_2020_21_ASIST_WORKSHOPS\n",
       "2   A_2020_21_NON_ASIST_WORKSHOPS\n",
       "3       A_2021_22_ASIST_WORKSHOPS\n",
       "4   A_2021_22_NON_ASIST_WORKSHOPS\n",
       "5       A_2022_23_ASIST_WORKSHOPS\n",
       "6   A_2022_23_NON_ASIST_WORKSHOPS\n",
       "7       A_2023_24_ASIST_WORKSHOPS\n",
       "8   A_2023_24_NON_ASIST_WORKSHOPS\n",
       "9                 DATA_DICTIONARY\n",
       "10    NON_ASIST_PROGRAMS_COMBINED\n",
       "11          WORKSHOP_DESCRIPTIONS"
      ]
     },
     "metadata": {},
     "output_type": "display_data"
    }
   ],
   "source": [
    "# We can view all of the available tables below\n",
    "connection = oracledb.connect(dsn=dsn, config_dir = wallet_path, user = username, password = password)\n",
    "\n",
    "schemas = ['STATSCAN', 'CANADA211', 'CMHANATIONAL', 'DISTRESSCENTRE', 'BBBS', 'MENTALHEALTHRESEARCH', 'CMHAEDMONTONCRISISLINE', 'CMHASUICIDEPREVENTION']\n",
    "\n",
    "for schema in schemas:\n",
    "    query = f'''\n",
    "        SELECT table_name\n",
    "        FROM all_tables\n",
    "        WHERE owner = '{schema}'\n",
    "        ORDER BY table_name\n",
    "    '''\n",
    "    print(f'Schema: {schema}')\n",
    "    df = pd.read_sql(query, con=connection)\n",
    "    display(df)"
   ]
  }
 ],
 "metadata": {
  "kernelspec": {
   "display_name": "Convergethon_venv",
   "language": "python",
   "name": "python3"
  },
  "language_info": {
   "codemirror_mode": {
    "name": "ipython",
    "version": 3
   },
   "file_extension": ".py",
   "mimetype": "text/x-python",
   "name": "python",
   "nbconvert_exporter": "python",
   "pygments_lexer": "ipython3",
   "version": "3.11.2"
  }
 },
 "nbformat": 4,
 "nbformat_minor": 5
}
